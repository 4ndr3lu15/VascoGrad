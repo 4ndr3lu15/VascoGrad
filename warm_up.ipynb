{
 "cells": [
  {
   "cell_type": "code",
   "execution_count": 16,
   "id": "5e156253-c6e1-4d40-a82a-996c06132193",
   "metadata": {},
   "outputs": [],
   "source": [
    "import math\n",
    "import random\n",
    "import numpy as np\n",
    "import matplotlib.pyplot as plt\n",
    "%matplotlib inline"
   ]
  },
  {
   "cell_type": "code",
   "execution_count": 3,
   "id": "1cdbb705-3bd3-4c6e-9010-b03219a7b075",
   "metadata": {},
   "outputs": [],
   "source": [
    "class Value:\n",
    "\n",
    "    def __init__(self, data, _children=(), _op='', label=''):\n",
    "        self.data = data\n",
    "        self.grad = 0\n",
    "        self._backward = lambda: None\n",
    "        self._prev = set(_children)\n",
    "        self._op = _op\n",
    "        self.label = label\n",
    "\n",
    "    def __repr__(self):\n",
    "        return f\"Value(data={self.data})\"\n",
    "\n",
    "    def __add__(self, other):\n",
    "        other = other if isinstance(other, Value) else Value(other)\n",
    "        out = Value(self.data + other.data, (self, other), '+')\n",
    "\n",
    "        def _backward():\n",
    "            self.grad += 1.0 * out.grad\n",
    "            other.grad += 1.0 * out.grad\n",
    "        out._backward = _backward\n",
    "\n",
    "        return out\n",
    "\n",
    "    def __radd__(self, other):\n",
    "        return self + other\n",
    "\n",
    "\n",
    "    def __mul__(self, other):\n",
    "        other = other if isinstance(other, Value) else Value(other)\n",
    "        out = Value(self.data * other.data, (self, other), '*')\n",
    "\n",
    "        def _backward():\n",
    "            self.grad += other.data * out.grad\n",
    "            other.grad += self.data * out.grad\n",
    "        out._backward = _backward\n",
    "\n",
    "        return out\n",
    "\n",
    "    def __rmul__(self, other):\n",
    "        return self * other\n",
    "\n",
    "    def __pow__(self, other):\n",
    "        assert isinstance(other, (int, float)), \"only supporting int/float powers for now\"\n",
    "        out = Value(self.data**other, (self,), f'**{other}')\n",
    "\n",
    "        def _backward():\n",
    "            self.grad += other * self.data ** (other - 1)\n",
    "        out._backward = _backward\n",
    "\n",
    "        return out\n",
    "        \n",
    "    def __truediv__(self, other):\n",
    "        return self * other**-1\n",
    "\n",
    "    def __rtruediv__(self, other):\n",
    "        return self * other**-1\n",
    "\n",
    "    def __neg__(self):\n",
    "        return self * -1\n",
    "\n",
    "    def __sub__(self, other):\n",
    "        return self + (-other)\n",
    "\n",
    "    def __rsub__(self, other):\n",
    "        return other + (-self)\n",
    "    \n",
    "    def tanh(self):\n",
    "        x = self.data\n",
    "        t = (math.exp(2*x) - 1)/(math.exp(2*x) + 1)\n",
    "        out = Value(t, (self, ), 'tanh')\n",
    "\n",
    "        def _backward():\n",
    "            self.grad += (1 - t**2) * out.grad\n",
    "        out._backward = _backward\n",
    "        \n",
    "        return out\n",
    "\n",
    "    def exp(self):\n",
    "        x = self.data\n",
    "        out = Value(math.exp(x), (self, ), 'exp')\n",
    "        \n",
    "        def _backward():\n",
    "            self.grad += out.data * out.grad\n",
    "        out._backward = _backward\n",
    "\n",
    "        return out\n",
    "\n",
    "    def backward(self):\n",
    "\n",
    "        topo = []\n",
    "        visited = set()\n",
    "        def build_topo(v):\n",
    "            if v not in visited:\n",
    "                visited.add(v)\n",
    "                for child in v._prev:\n",
    "                    build_topo(child)\n",
    "                topo.append(v)\n",
    "        build_topo(self)\n",
    "\n",
    "        self.grad = 1.0\n",
    "        for node in reversed(topo):\n",
    "            node._backward()"
   ]
  },
  {
   "cell_type": "code",
   "execution_count": 4,
   "id": "1f183273-362b-4219-bace-caedb17c2417",
   "metadata": {},
   "outputs": [],
   "source": [
    "from graphviz import Digraph\n",
    "\n",
    "def trace(root):\n",
    "    nodes, edges = set(), set()\n",
    "    def build(v):\n",
    "        if v not in nodes:\n",
    "            nodes.add(v)\n",
    "            for child in v._prev:\n",
    "                edges.add((child, v))\n",
    "                build(child)\n",
    "    build(root)\n",
    "    return nodes, edges\n",
    "\n",
    "def draw_dot(root):\n",
    "    dot = Digraph(format='svg', graph_attr={'rankdir': 'LR'})\n",
    "\n",
    "    nodes, edges = trace(root)\n",
    "    for n in nodes:\n",
    "        uid = str(id(n))\n",
    "        dot.node(name = uid, label = \"{ %s | data %.4f | grad %.4f}\" % (n.label, n.data, n.grad), shape='record')\n",
    "        if n._op:\n",
    "            dot.node(name = uid + n._op, label = n._op)\n",
    "            dot.edge(uid + n._op, uid)\n",
    "\n",
    "    for n1, n2 in edges:\n",
    "        dot.edge(str(id(n1)), str(id(n2)) + n2._op)\n",
    "\n",
    "    return dot"
   ]
  },
  {
   "cell_type": "code",
   "execution_count": 5,
   "id": "0039868a-4847-4770-8dc5-40f7d9c18385",
   "metadata": {},
   "outputs": [],
   "source": [
    "a = Value(2.0, label='a')\n",
    "b = Value(-3.0, label='b')\n",
    "c = Value(10.0, label='c')\n",
    "d = a*b; d.label='d'\n",
    "e = d+c; e.label='e'\n",
    "f = Value(-2.0, label='f')\n",
    "L = e*f; L.label='L'"
   ]
  },
  {
   "cell_type": "code",
   "execution_count": 11,
   "id": "ba52ca7d-3088-41ff-969e-cd3e9e3b97b7",
   "metadata": {},
   "outputs": [
    {
     "data": {
      "image/svg+xml": [
       "<?xml version=\"1.0\" encoding=\"UTF-8\" standalone=\"no\"?>\n",
       "<!DOCTYPE svg PUBLIC \"-//W3C//DTD SVG 1.1//EN\"\n",
       " \"http://www.w3.org/Graphics/SVG/1.1/DTD/svg11.dtd\">\n",
       "<!-- Generated by graphviz version 8.1.0 (20230707.0739)\n",
       " -->\n",
       "<!-- Pages: 1 -->\n",
       "<svg width=\"1150pt\" height=\"154pt\"\n",
       " viewBox=\"0.00 0.00 1150.25 154.00\" xmlns=\"http://www.w3.org/2000/svg\" xmlns:xlink=\"http://www.w3.org/1999/xlink\">\n",
       "<g id=\"graph0\" class=\"graph\" transform=\"scale(1 1) rotate(0) translate(4 150)\">\n",
       "<polygon fill=\"white\" stroke=\"none\" points=\"-4,4 -4,-150 1146.25,-150 1146.25,4 -4,4\"/>\n",
       "<!-- 140654761373200 -->\n",
       "<g id=\"node1\" class=\"node\">\n",
       "<title>140654761373200</title>\n",
       "<polygon fill=\"none\" stroke=\"black\" points=\"639,-54.5 639,-90.5 826.5,-90.5 826.5,-54.5 639,-54.5\"/>\n",
       "<text text-anchor=\"middle\" x=\"650\" y=\"-67.7\" font-family=\"Times,serif\" font-size=\"14.00\">e</text>\n",
       "<polyline fill=\"none\" stroke=\"black\" points=\"661,-55 661,-90.5\"/>\n",
       "<text text-anchor=\"middle\" x=\"700.88\" y=\"-67.7\" font-family=\"Times,serif\" font-size=\"14.00\">data 4.0000</text>\n",
       "<polyline fill=\"none\" stroke=\"black\" points=\"740.75,-55 740.75,-90.5\"/>\n",
       "<text text-anchor=\"middle\" x=\"783.62\" y=\"-67.7\" font-family=\"Times,serif\" font-size=\"14.00\">grad &#45;2.0000</text>\n",
       "</g>\n",
       "<!-- 140654761373536* -->\n",
       "<g id=\"node7\" class=\"node\">\n",
       "<title>140654761373536*</title>\n",
       "<ellipse fill=\"none\" stroke=\"black\" cx=\"889.5\" cy=\"-99.5\" rx=\"27\" ry=\"18\"/>\n",
       "<text text-anchor=\"middle\" x=\"889.5\" y=\"-94.45\" font-family=\"Times,serif\" font-size=\"14.00\">*</text>\n",
       "</g>\n",
       "<!-- 140654761373200&#45;&gt;140654761373536* -->\n",
       "<g id=\"edge6\" class=\"edge\">\n",
       "<title>140654761373200&#45;&gt;140654761373536*</title>\n",
       "<path fill=\"none\" stroke=\"black\" d=\"M826.45,-88.67C835.55,-90.26 844.35,-91.8 852.33,-93.19\"/>\n",
       "<polygon fill=\"black\" stroke=\"black\" points=\"851.56,-96.78 862.01,-95.05 852.76,-89.89 851.56,-96.78\"/>\n",
       "</g>\n",
       "<!-- 140654761373200+ -->\n",
       "<g id=\"node2\" class=\"node\">\n",
       "<title>140654761373200+</title>\n",
       "<ellipse fill=\"none\" stroke=\"black\" cx=\"576\" cy=\"-72.5\" rx=\"27\" ry=\"18\"/>\n",
       "<text text-anchor=\"middle\" x=\"576\" y=\"-67.45\" font-family=\"Times,serif\" font-size=\"14.00\">+</text>\n",
       "</g>\n",
       "<!-- 140654761373200+&#45;&gt;140654761373200 -->\n",
       "<g id=\"edge1\" class=\"edge\">\n",
       "<title>140654761373200+&#45;&gt;140654761373200</title>\n",
       "<path fill=\"none\" stroke=\"black\" d=\"M603.25,-72.5C610.69,-72.5 619.27,-72.5 628.39,-72.5\"/>\n",
       "<polygon fill=\"black\" stroke=\"black\" points=\"628.32,-76 638.32,-72.5 628.32,-69 628.32,-76\"/>\n",
       "</g>\n",
       "<!-- 140654761373344 -->\n",
       "<g id=\"node3\" class=\"node\">\n",
       "<title>140654761373344</title>\n",
       "<polygon fill=\"none\" stroke=\"black\" points=\"639.75,-109.5 639.75,-145.5 825.75,-145.5 825.75,-109.5 639.75,-109.5\"/>\n",
       "<text text-anchor=\"middle\" x=\"650\" y=\"-122.7\" font-family=\"Times,serif\" font-size=\"14.00\">f</text>\n",
       "<polyline fill=\"none\" stroke=\"black\" points=\"660.25,-110 660.25,-145.5\"/>\n",
       "<text text-anchor=\"middle\" x=\"702.38\" y=\"-122.7\" font-family=\"Times,serif\" font-size=\"14.00\">data &#45;2.0000</text>\n",
       "<polyline fill=\"none\" stroke=\"black\" points=\"744.5,-110 744.5,-145.5\"/>\n",
       "<text text-anchor=\"middle\" x=\"785.12\" y=\"-122.7\" font-family=\"Times,serif\" font-size=\"14.00\">grad 4.0000</text>\n",
       "</g>\n",
       "<!-- 140654761373344&#45;&gt;140654761373536* -->\n",
       "<g id=\"edge7\" class=\"edge\">\n",
       "<title>140654761373344&#45;&gt;140654761373536*</title>\n",
       "<path fill=\"none\" stroke=\"black\" d=\"M825.56,-110.89C834.95,-109.19 844.06,-107.54 852.28,-106.05\"/>\n",
       "<polygon fill=\"black\" stroke=\"black\" points=\"852.69,-109.36 861.9,-104.13 851.44,-102.47 852.69,-109.36\"/>\n",
       "</g>\n",
       "<!-- 140654761372912 -->\n",
       "<g id=\"node4\" class=\"node\">\n",
       "<title>140654761372912</title>\n",
       "<polygon fill=\"none\" stroke=\"black\" points=\"318.75,-82.5 318.75,-118.5 513,-118.5 513,-82.5 318.75,-82.5\"/>\n",
       "<text text-anchor=\"middle\" x=\"329.75\" y=\"-95.7\" font-family=\"Times,serif\" font-size=\"14.00\">c</text>\n",
       "<polyline fill=\"none\" stroke=\"black\" points=\"340.75,-83 340.75,-118.5\"/>\n",
       "<text text-anchor=\"middle\" x=\"384\" y=\"-95.7\" font-family=\"Times,serif\" font-size=\"14.00\">data 10.0000</text>\n",
       "<polyline fill=\"none\" stroke=\"black\" points=\"427.25,-83 427.25,-118.5\"/>\n",
       "<text text-anchor=\"middle\" x=\"470.12\" y=\"-95.7\" font-family=\"Times,serif\" font-size=\"14.00\">grad &#45;2.0000</text>\n",
       "</g>\n",
       "<!-- 140654761372912&#45;&gt;140654761373200+ -->\n",
       "<g id=\"edge4\" class=\"edge\">\n",
       "<title>140654761372912&#45;&gt;140654761373200+</title>\n",
       "<path fill=\"none\" stroke=\"black\" d=\"M512.96,-83.49C522.1,-81.87 530.93,-80.3 538.91,-78.89\"/>\n",
       "<polygon fill=\"black\" stroke=\"black\" points=\"539.35,-82.19 548.58,-77 538.13,-75.3 539.35,-82.19\"/>\n",
       "</g>\n",
       "<!-- 140654761036112 -->\n",
       "<g id=\"node5\" class=\"node\">\n",
       "<title>140654761036112</title>\n",
       "<polygon fill=\"none\" stroke=\"black\" points=\"4.88,-55.5 4.88,-91.5 187.88,-91.5 187.88,-55.5 4.88,-55.5\"/>\n",
       "<text text-anchor=\"middle\" x=\"15.88\" y=\"-68.7\" font-family=\"Times,serif\" font-size=\"14.00\">a</text>\n",
       "<polyline fill=\"none\" stroke=\"black\" points=\"26.88,-56 26.88,-91.5\"/>\n",
       "<text text-anchor=\"middle\" x=\"66.75\" y=\"-68.7\" font-family=\"Times,serif\" font-size=\"14.00\">data 2.0000</text>\n",
       "<polyline fill=\"none\" stroke=\"black\" points=\"106.62,-56 106.62,-91.5\"/>\n",
       "<text text-anchor=\"middle\" x=\"147.25\" y=\"-68.7\" font-family=\"Times,serif\" font-size=\"14.00\">grad 6.0000</text>\n",
       "</g>\n",
       "<!-- 140654761373104* -->\n",
       "<g id=\"node10\" class=\"node\">\n",
       "<title>140654761373104*</title>\n",
       "<ellipse fill=\"none\" stroke=\"black\" cx=\"255.75\" cy=\"-45.5\" rx=\"27\" ry=\"18\"/>\n",
       "<text text-anchor=\"middle\" x=\"255.75\" y=\"-40.45\" font-family=\"Times,serif\" font-size=\"14.00\">*</text>\n",
       "</g>\n",
       "<!-- 140654761036112&#45;&gt;140654761373104* -->\n",
       "<g id=\"edge9\" class=\"edge\">\n",
       "<title>140654761036112&#45;&gt;140654761373104*</title>\n",
       "<path fill=\"none\" stroke=\"black\" d=\"M187.55,-57.46C198.51,-55.51 209.17,-53.61 218.64,-51.92\"/>\n",
       "<polygon fill=\"black\" stroke=\"black\" points=\"218.94,-55.25 228.17,-50.05 217.71,-48.36 218.94,-55.25\"/>\n",
       "</g>\n",
       "<!-- 140654761373536 -->\n",
       "<g id=\"node6\" class=\"node\">\n",
       "<title>140654761373536</title>\n",
       "<polygon fill=\"none\" stroke=\"black\" points=\"952.5,-81.5 952.5,-117.5 1142.25,-117.5 1142.25,-81.5 952.5,-81.5\"/>\n",
       "<text text-anchor=\"middle\" x=\"964.62\" y=\"-94.7\" font-family=\"Times,serif\" font-size=\"14.00\">L</text>\n",
       "<polyline fill=\"none\" stroke=\"black\" points=\"976.75,-82 976.75,-117.5\"/>\n",
       "<text text-anchor=\"middle\" x=\"1018.88\" y=\"-94.7\" font-family=\"Times,serif\" font-size=\"14.00\">data &#45;8.0000</text>\n",
       "<polyline fill=\"none\" stroke=\"black\" points=\"1061,-82 1061,-117.5\"/>\n",
       "<text text-anchor=\"middle\" x=\"1101.62\" y=\"-94.7\" font-family=\"Times,serif\" font-size=\"14.00\">grad 1.0000</text>\n",
       "</g>\n",
       "<!-- 140654761373536*&#45;&gt;140654761373536 -->\n",
       "<g id=\"edge2\" class=\"edge\">\n",
       "<title>140654761373536*&#45;&gt;140654761373536</title>\n",
       "<path fill=\"none\" stroke=\"black\" d=\"M916.94,-99.5C924.31,-99.5 932.79,-99.5 941.81,-99.5\"/>\n",
       "<polygon fill=\"black\" stroke=\"black\" points=\"941.61,-103 951.61,-99.5 941.61,-96 941.61,-103\"/>\n",
       "</g>\n",
       "<!-- 140654813205408 -->\n",
       "<g id=\"node8\" class=\"node\">\n",
       "<title>140654813205408</title>\n",
       "<polygon fill=\"none\" stroke=\"black\" points=\"0,-0.5 0,-36.5 192.75,-36.5 192.75,-0.5 0,-0.5\"/>\n",
       "<text text-anchor=\"middle\" x=\"11.38\" y=\"-13.7\" font-family=\"Times,serif\" font-size=\"14.00\">b</text>\n",
       "<polyline fill=\"none\" stroke=\"black\" points=\"22.75,-1 22.75,-36.5\"/>\n",
       "<text text-anchor=\"middle\" x=\"64.88\" y=\"-13.7\" font-family=\"Times,serif\" font-size=\"14.00\">data &#45;3.0000</text>\n",
       "<polyline fill=\"none\" stroke=\"black\" points=\"107,-1 107,-36.5\"/>\n",
       "<text text-anchor=\"middle\" x=\"149.88\" y=\"-13.7\" font-family=\"Times,serif\" font-size=\"14.00\">grad &#45;4.0000</text>\n",
       "</g>\n",
       "<!-- 140654813205408&#45;&gt;140654761373104* -->\n",
       "<g id=\"edge8\" class=\"edge\">\n",
       "<title>140654813205408&#45;&gt;140654761373104*</title>\n",
       "<path fill=\"none\" stroke=\"black\" d=\"M192.55,-34.83C201.7,-36.4 210.54,-37.92 218.55,-39.29\"/>\n",
       "<polygon fill=\"black\" stroke=\"black\" points=\"217.8,-42.88 228.25,-41.12 218.98,-35.98 217.8,-42.88\"/>\n",
       "</g>\n",
       "<!-- 140654761373104 -->\n",
       "<g id=\"node9\" class=\"node\">\n",
       "<title>140654761373104</title>\n",
       "<polygon fill=\"none\" stroke=\"black\" points=\"319.5,-27.5 319.5,-63.5 512.25,-63.5 512.25,-27.5 319.5,-27.5\"/>\n",
       "<text text-anchor=\"middle\" x=\"330.88\" y=\"-40.7\" font-family=\"Times,serif\" font-size=\"14.00\">d</text>\n",
       "<polyline fill=\"none\" stroke=\"black\" points=\"342.25,-28 342.25,-63.5\"/>\n",
       "<text text-anchor=\"middle\" x=\"384.38\" y=\"-40.7\" font-family=\"Times,serif\" font-size=\"14.00\">data &#45;6.0000</text>\n",
       "<polyline fill=\"none\" stroke=\"black\" points=\"426.5,-28 426.5,-63.5\"/>\n",
       "<text text-anchor=\"middle\" x=\"469.38\" y=\"-40.7\" font-family=\"Times,serif\" font-size=\"14.00\">grad &#45;2.0000</text>\n",
       "</g>\n",
       "<!-- 140654761373104&#45;&gt;140654761373200+ -->\n",
       "<g id=\"edge5\" class=\"edge\">\n",
       "<title>140654761373104&#45;&gt;140654761373200+</title>\n",
       "<path fill=\"none\" stroke=\"black\" d=\"M512.05,-61.75C521.49,-63.36 530.62,-64.92 538.85,-66.33\"/>\n",
       "<polygon fill=\"black\" stroke=\"black\" points=\"538.02,-69.91 548.47,-68.14 539.2,-63.01 538.02,-69.91\"/>\n",
       "</g>\n",
       "<!-- 140654761373104*&#45;&gt;140654761373104 -->\n",
       "<g id=\"edge3\" class=\"edge\">\n",
       "<title>140654761373104*&#45;&gt;140654761373104</title>\n",
       "<path fill=\"none\" stroke=\"black\" d=\"M283.22,-45.5C290.82,-45.5 299.61,-45.5 308.96,-45.5\"/>\n",
       "<polygon fill=\"black\" stroke=\"black\" points=\"308.74,-49 318.74,-45.5 308.74,-42 308.74,-49\"/>\n",
       "</g>\n",
       "</g>\n",
       "</svg>\n"
      ],
      "text/plain": [
       "<graphviz.graphs.Digraph at 0x7fecbd167860>"
      ]
     },
     "execution_count": 11,
     "metadata": {},
     "output_type": "execute_result"
    }
   ],
   "source": [
    "draw_dot(L)"
   ]
  },
  {
   "cell_type": "code",
   "execution_count": 7,
   "id": "e8b170c8-8e71-4bf0-b2cb-cc09b2cfbd2a",
   "metadata": {},
   "outputs": [],
   "source": [
    "L.backward()"
   ]
  },
  {
   "cell_type": "code",
   "execution_count": 10,
   "id": "d5bb381f-0822-4168-b4ae-ec2c7ea47b10",
   "metadata": {},
   "outputs": [],
   "source": [
    "for i in []:\n",
    "    print(i)"
   ]
  },
  {
   "cell_type": "code",
   "execution_count": 12,
   "id": "f09d3e55-cdd7-4e66-b1bf-163a5b9aae3c",
   "metadata": {},
   "outputs": [],
   "source": [
    "class Module:\n",
    "\n",
    "    def zero_grad(self):\n",
    "        for p in self.parameters():\n",
    "            p.grad = 0\n",
    "\n",
    "    def parameters(self):\n",
    "        return []\n",
    "        \n",
    "\n",
    "class Neuron(Module):\n",
    "\n",
    "    def __init__(self, nin):\n",
    "        self.w = [Value(random.uniform(-1, 1)) for _ in range(nin)]\n",
    "        self.b = Value(random.uniform(-1, 1))\n",
    "\n",
    "    def __call__(self, x):\n",
    "            act = sum((wi*xi for wi, xi in zip(self.w, x)), self.b)\n",
    "            out = act.tanh()\n",
    "            return out\n",
    "\n",
    "    def parameters(self):\n",
    "        return self.w + [self.b]\n",
    "\n",
    "class Layer(Module):\n",
    "\n",
    "    def __init__(self, nin, nout):\n",
    "        self.neurons = [Neuron(nin) for _ in range(nout)]\n",
    "\n",
    "    def __call__(self, x):\n",
    "        outs = [n(x) for n in self.neurons]\n",
    "        return outs[0] if len(outs) == 1 else outs\n",
    "\n",
    "    def parameters(self):\n",
    "        return [p for neuron in self.neurons for p in neuron.parameters()]\n",
    "\n",
    "class MLP(Module):\n",
    "\n",
    "    def __init__(self, nin, nouts):\n",
    "        sz = [nin] + nouts\n",
    "        self.layers = [Layer(sz[i], sz[i+1]) for i in range(len(nouts))]\n",
    "\n",
    "    def __call__(self, x):\n",
    "        for layer in self.layers:\n",
    "            x = layer(x)\n",
    "        return x\n",
    "\n",
    "    def parameters(self):\n",
    "        return [p for layer in self.layers for p in layer.parameters()]"
   ]
  },
  {
   "cell_type": "code",
   "execution_count": 13,
   "id": "e5596428-7441-4f08-a56b-add88b3f52bb",
   "metadata": {},
   "outputs": [],
   "source": [
    "model = MLP(3, [4,4,1])"
   ]
  },
  {
   "cell_type": "code",
   "execution_count": 14,
   "id": "90ee9f66-c6c6-4d27-a55a-4641929dac85",
   "metadata": {},
   "outputs": [
    {
     "data": {
      "text/plain": [
       "[Value(data=-0.4605288700916821),\n",
       " Value(data=-0.48002275285571705),\n",
       " Value(data=-0.34441603994052095),\n",
       " Value(data=-0.6070460102613824),\n",
       " Value(data=0.6329868769072715),\n",
       " Value(data=-0.9881911003289312),\n",
       " Value(data=0.7257381533525191),\n",
       " Value(data=0.2968983997289054),\n",
       " Value(data=-0.8104589497257229),\n",
       " Value(data=-0.4547713647012557),\n",
       " Value(data=0.5106048513517731),\n",
       " Value(data=-0.08772423381449301),\n",
       " Value(data=0.33605263923313866),\n",
       " Value(data=0.10760751222106868),\n",
       " Value(data=-0.4245306365220507),\n",
       " Value(data=-0.7183401605340602),\n",
       " Value(data=-0.8437138491242988),\n",
       " Value(data=-0.727379987120256),\n",
       " Value(data=-0.5808567136682563),\n",
       " Value(data=0.11635103794314694),\n",
       " Value(data=-0.8729859446658552),\n",
       " Value(data=0.17527193374401362),\n",
       " Value(data=0.4940431740847844),\n",
       " Value(data=0.42951671579102535),\n",
       " Value(data=0.5461077767745461),\n",
       " Value(data=-0.6239003785443769),\n",
       " Value(data=0.5518257516791649),\n",
       " Value(data=0.7777719688862543),\n",
       " Value(data=-0.6065422769975997),\n",
       " Value(data=0.6391640682952389),\n",
       " Value(data=0.8579153196419911),\n",
       " Value(data=0.15114365894179138),\n",
       " Value(data=-0.6083290863284947),\n",
       " Value(data=0.6964517829095964),\n",
       " Value(data=0.9339582532604676),\n",
       " Value(data=-0.2766271150369688),\n",
       " Value(data=0.4591703727842149),\n",
       " Value(data=-0.6498447786928934),\n",
       " Value(data=0.6241401408606011),\n",
       " Value(data=-0.9235243465414285),\n",
       " Value(data=0.6154790017172942)]"
      ]
     },
     "execution_count": 14,
     "metadata": {},
     "output_type": "execute_result"
    }
   ],
   "source": [
    "model.parameters()"
   ]
  },
  {
   "cell_type": "code",
   "execution_count": 17,
   "id": "d78a9455-5ab7-43a6-86ef-ac6f5a124c08",
   "metadata": {},
   "outputs": [
    {
     "data": {
      "text/plain": [
       "[Value(data=0.9531091727578778),\n",
       " Value(data=0.9817482490578803),\n",
       " Value(data=0.9737889067341212),\n",
       " Value(data=0.9794154602573879)]"
      ]
     },
     "execution_count": 17,
     "metadata": {},
     "output_type": "execute_result"
    }
   ],
   "source": [
    "xs = [\n",
    "    [2.0, 3.0, -1.0],\n",
    "    [3.0, -1.0, 0.5],\n",
    "    [0.5, 1.0, 1.0],\n",
    "    [1.0, 1.0, -1.0],\n",
    "]\n",
    "\n",
    "ys = [1.0, -1.0, -1.0, 1.0]\n",
    "ypred = [model(x) for x in xs]\n",
    "ypred"
   ]
  },
  {
   "cell_type": "code",
   "execution_count": 19,
   "id": "56b6c2a9-c0d7-473a-84cb-5fb46cc9a74e",
   "metadata": {},
   "outputs": [
    {
     "data": {
      "text/plain": [
       "Value(data=7.825791243946517)"
      ]
     },
     "execution_count": 19,
     "metadata": {},
     "output_type": "execute_result"
    }
   ],
   "source": [
    "loss = sum([(yout - ygt)**2 for ygt, yout in zip(ys, ypred)])\n",
    "loss"
   ]
  },
  {
   "cell_type": "code",
   "execution_count": null,
   "id": "671282d3-2a22-41b7-a06b-5ef8450a37b9",
   "metadata": {},
   "outputs": [],
   "source": [
    "for p in model.parameters():\n",
    "    p.data += -0.01 * p.grad"
   ]
  },
  {
   "cell_type": "code",
   "execution_count": 210,
   "id": "8605e285-e108-4e53-ad5b-91ab9c838b9e",
   "metadata": {},
   "outputs": [],
   "source": [
    "## rodar treinamento"
   ]
  },
  {
   "cell_type": "code",
   "execution_count": 21,
   "id": "6978b83f-518f-453d-abb2-f1dfc39254e2",
   "metadata": {
    "scrolled": true
   },
   "outputs": [
    {
     "data": {
      "text/plain": [
       "<matplotlib.collections.PathCollection at 0x7fec68e3dee0>"
      ]
     },
     "execution_count": 21,
     "metadata": {},
     "output_type": "execute_result"
    },
    {
     "data": {
      "image/png": "[encoded data removed]",
      "text/plain": [
       "<Figure size 500x500 with 1 Axes>"
      ]
     },
     "metadata": {},
     "output_type": "display_data"
    }
   ],
   "source": [
    "# make up a dataset\n",
    "\n",
    "from sklearn.datasets import make_moons, make_blobs\n",
    "X, y = make_moons(n_samples=100, noise=0.1)\n",
    "\n",
    "y = y*2 - 1 # make y be -1 or 1\n",
    "# visualize in 2D\n",
    "plt.figure(figsize=(5,5))\n",
    "plt.scatter(X[:,0], X[:,1], c=y, s=20, cmap='jet')"
   ]
  },
  {
   "cell_type": "code",
   "execution_count": null,
   "id": "9777cd32-8434-4cf0-9831-51b3247e41be",
   "metadata": {},
   "outputs": [],
   "source": [
    "X = [\n",
    "    [2.0, 3.0, -1.0],\n",
    "    [3.0, -1.0, 0.5],\n",
    "    [0.5, 1.0, 1.0],\n",
    "    [1.0, 1.0, -1.0],\n",
    "]\n",
    "\n",
    "y = [1.0, -1.0, -1.0, 1.0]"
   ]
  },
  {
   "cell_type": "code",
   "execution_count": 29,
   "id": "3eec318e-df8f-4a7f-8a89-a5b937641345",
   "metadata": {},
   "outputs": [
    {
     "name": "stdout",
     "output_type": "stream",
     "text": [
      " epoch: 0 | loss : 133.92040789231066\n",
      " epoch: 5 | loss : 89.34648666866998\n",
      " epoch: 10 | loss : 71.08248497804645\n",
      " epoch: 15 | loss : 71.0991141405041\n",
      " epoch: 20 | loss : 37.08514206657099\n",
      " epoch: 25 | loss : 77.82339445880253\n",
      " epoch: 30 | loss : 37.43267471010154\n",
      " epoch: 35 | loss : 36.49291471536804\n",
      " epoch: 40 | loss : 35.90287603083879\n",
      " epoch: 45 | loss : 35.38676791283696\n",
      " epoch: 50 | loss : 34.8169750583234\n",
      " epoch: 55 | loss : 34.2453742272038\n",
      " epoch: 60 | loss : 31.245183728740724\n",
      " epoch: 65 | loss : 22.297011509072266\n",
      " epoch: 70 | loss : 13.116556510213627\n",
      " epoch: 75 | loss : 4.63915367079889\n",
      " epoch: 80 | loss : 2.7296820774635426\n",
      " epoch: 85 | loss : 1.232369235438578\n",
      " epoch: 90 | loss : 0.8904494660536374\n",
      " epoch: 95 | loss : 0.768429470968916\n"
     ]
    }
   ],
   "source": [
    "num_epochs = 100\n",
    "learning_rate = 0.01\n",
    "model = MLP(2, [10, 10, 1])\n",
    "\n",
    "for k in range(num_epochs):\n",
    "    model.zero_grad()\n",
    "    y_hat = [model(x) for x in X]\n",
    "    loss = sum([(yout - ygt)**2 for ygt, yout in zip(y, y_hat)])\n",
    "    loss.backward()\n",
    "\n",
    "    for p in model.parameters():\n",
    "        p.data -= learning_rate * p.grad\n",
    "\n",
    "    if k%5 == 0:\n",
    "        print(f' epoch: {k} | loss : {loss.data}')\n",
    "    "
   ]
  },
  {
   "cell_type": "code",
   "execution_count": 22,
   "id": "06be53fb-3779-4612-93ef-0be392f715b2",
   "metadata": {},
   "outputs": [],
   "source": [
    "model = MLP(2, [5, 5, 1])"
   ]
  },
  {
   "cell_type": "code",
   "execution_count": 25,
   "id": "d6df19e6-136a-4307-84cb-99929be5323d",
   "metadata": {},
   "outputs": [
    {
     "data": {
      "text/plain": [
       "100"
      ]
     },
     "execution_count": 25,
     "metadata": {},
     "output_type": "execute_result"
    }
   ],
   "source": [
    "len([model(x) for x in X])"
   ]
  }
 ],
 "metadata": {
  "kernelspec": {
   "display_name": "Python 3 (ipykernel)",
   "language": "python",
   "name": "python3"
  },
  "language_info": {
   "codemirror_mode": {
    "name": "ipython",
    "version": 3
   },
   "file_extension": ".py",
   "mimetype": "text/x-python",
   "name": "python",
   "nbconvert_exporter": "python",
   "pygments_lexer": "ipython3",
   "version": "3.12.3"
  }
 },
 "nbformat": 4,
 "nbformat_minor": 5
}
